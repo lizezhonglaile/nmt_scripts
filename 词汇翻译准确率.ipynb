{
 "cells": [
  {
   "cell_type": "code",
   "execution_count": 2,
   "id": "8676e0eb",
   "metadata": {},
   "outputs": [
    {
     "ename": "FileNotFoundError",
     "evalue": "[Errno 2] No such file or directory: '/Users/lisan/spec/test.tok.ja'",
     "output_type": "error",
     "traceback": [
      "\u001b[0;31m---------------------------------------------------------------------------\u001b[0m",
      "\u001b[0;31mFileNotFoundError\u001b[0m                         Traceback (most recent call last)",
      "\u001b[0;32m<ipython-input-2-775169fac92c>\u001b[0m in \u001b[0;36m<module>\u001b[0;34m\u001b[0m\n\u001b[1;32m     14\u001b[0m \u001b[0malign_file\u001b[0m \u001b[0;34m=\u001b[0m \u001b[0mdir\u001b[0m \u001b[0;34m+\u001b[0m \u001b[0;34m\"test.tok.align\"\u001b[0m\u001b[0;34m\u001b[0m\u001b[0;34m\u001b[0m\u001b[0m\n\u001b[1;32m     15\u001b[0m \u001b[0;34m\u001b[0m\u001b[0m\n\u001b[0;32m---> 16\u001b[0;31m \u001b[0mja_lines\u001b[0m \u001b[0;34m=\u001b[0m \u001b[0;34m[\u001b[0m\u001b[0mline\u001b[0m\u001b[0;34m.\u001b[0m\u001b[0mstrip\u001b[0m\u001b[0;34m(\u001b[0m\u001b[0;34m)\u001b[0m \u001b[0;32mfor\u001b[0m \u001b[0mline\u001b[0m \u001b[0;32min\u001b[0m \u001b[0mopen\u001b[0m\u001b[0;34m(\u001b[0m\u001b[0mja_file\u001b[0m\u001b[0;34m)\u001b[0m\u001b[0;34m.\u001b[0m\u001b[0mreadlines\u001b[0m\u001b[0;34m(\u001b[0m\u001b[0;34m)\u001b[0m\u001b[0;34m]\u001b[0m\u001b[0;34m\u001b[0m\u001b[0;34m\u001b[0m\u001b[0m\n\u001b[0m\u001b[1;32m     17\u001b[0m \u001b[0mpredict_lines\u001b[0m \u001b[0;34m=\u001b[0m \u001b[0;34m[\u001b[0m\u001b[0mline\u001b[0m\u001b[0;34m.\u001b[0m\u001b[0mstrip\u001b[0m\u001b[0;34m(\u001b[0m\u001b[0;34m)\u001b[0m \u001b[0;32mfor\u001b[0m \u001b[0mline\u001b[0m \u001b[0;32min\u001b[0m \u001b[0mopen\u001b[0m\u001b[0;34m(\u001b[0m\u001b[0mpredict_file\u001b[0m\u001b[0;34m)\u001b[0m\u001b[0;34m.\u001b[0m\u001b[0mreadlines\u001b[0m\u001b[0;34m(\u001b[0m\u001b[0;34m)\u001b[0m\u001b[0;34m]\u001b[0m\u001b[0;34m\u001b[0m\u001b[0;34m\u001b[0m\u001b[0m\n\u001b[1;32m     18\u001b[0m \u001b[0mreference_lines\u001b[0m \u001b[0;34m=\u001b[0m \u001b[0;34m[\u001b[0m\u001b[0mline\u001b[0m\u001b[0;34m.\u001b[0m\u001b[0mstrip\u001b[0m\u001b[0;34m(\u001b[0m\u001b[0;34m)\u001b[0m \u001b[0;32mfor\u001b[0m \u001b[0mline\u001b[0m \u001b[0;32min\u001b[0m \u001b[0mopen\u001b[0m\u001b[0;34m(\u001b[0m\u001b[0mreference_file\u001b[0m\u001b[0;34m)\u001b[0m\u001b[0;34m.\u001b[0m\u001b[0mreadlines\u001b[0m\u001b[0;34m(\u001b[0m\u001b[0;34m)\u001b[0m\u001b[0;34m]\u001b[0m\u001b[0;34m\u001b[0m\u001b[0;34m\u001b[0m\u001b[0m\n",
      "\u001b[0;31mFileNotFoundError\u001b[0m: [Errno 2] No such file or directory: '/Users/lisan/spec/test.tok.ja'"
     ]
    }
   ],
   "source": [
    "# 不同词性的词汇翻译准确率\n",
    "\n",
    "import io,sys\n",
    "import MeCab\n",
    "\n",
    "dir = \"/Users/lisan/spec/\"\n",
    "\n",
    "tagger = MeCab.Tagger()\n",
    "\n",
    "ja_file = dir + \"test.tok.ja\"\n",
    "predict_file = dir + \"test.tok.cn\"\n",
    "reference_file = dir + \"test.tok.cn\"\n",
    "align_file = dir + \"test.tok.align\"\n",
    "\n",
    "word_file = dir + \"src.vocab\"\n",
    "\n",
    "ja_lines = [line.strip() for line in open(ja_file).readlines()]\n",
    "predict_lines = [line.strip() for line in open(predict_file).readlines()]\n",
    "reference_lines = [line.strip() for line in open(reference_file).readlines()]\n",
    "align_lines = [line.strip() for line in open(align_file).readlines()]\n",
    "\n",
    "word_acc = [0, 0]\n",
    "rare_word_acc = [0, 0]\n",
    "\n",
    "word_dict = {}\n",
    "for line in open(word_file).readlines():\n",
    "    w, _, cnt = line.strip().rpartition(\"\\t\")\n",
    "    cnt = int(cnt)\n",
    "    if cnt >= 1:\n",
    "        word_dict[w] = cnt\n",
    "\n",
    "pos_set = set([\"\", \"\", \"\"])\n",
    "pos_acc = {}\n",
    "for t in pos_set:\n",
    "    pos_acc[t] = [0, 0]\n",
    "\n",
    "for (jp, c, a, c_) in zip(ja_lines, reference_lines, align_lines, predict_lines):\n",
    "    \n",
    "    jp_words = jp.split()\n",
    "    cn_words = c.split()\n",
    "    \n",
    "    ref_dict = {}\n",
    "    ss = a.split(\" \")\n",
    "    attn = {}\n",
    "    I = max([int(s.rpartition(\"-\")[0]) for s in ss])\n",
    "    J = max([int(s.rpartition(\"-\")[1]) for s in ss])\n",
    "    if I >= len(jp_words) or J >= len(cn_words):\n",
    "        continue\n",
    "        \n",
    "    for s in ss:\n",
    "        i, _, j = s.rpartition(\"-\")\n",
    "        i, j = int(i), int(j)\n",
    "        ref_dict[jp_words[i]] = cn_words[j]\n",
    "        \n",
    "    node = tagger.parseToNode(jp.replace(\" \", \"\"))\n",
    "    while node:\n",
    "        word = node.surface\n",
    "        pos = node.feature.split(\",\")[0]\n",
    "        \n",
    "        if word and word in ref_dict:\n",
    "            cnt = word_dict.get(word, 0)\n",
    "            ref = ref_dict[word]\n",
    "            correct = 1 if c_.find(ref) != -1 else 0\n",
    "            word_acc[0] += 1\n",
    "            word_acc[1] += correct\n",
    "            if cnt <= 5:\n",
    "                rare_word_acc[0] += 1\n",
    "                rare_word_acc[1] += correct\n",
    "            \n",
    "        if word and pos in pos_set and word in ref_dict:\n",
    "            ref = ref_dict[word]\n",
    "            correct = 1 if c_.find(ref) != -1 else 0\n",
    "            rare_word_acc += 1\n",
    "            pos_acc[pos][1] += correct\n",
    "        node = node.next\n",
    "\n",
    "print(\"all words:\", word_acc[0], word_acc[1], \"%.2f\" %(100*word_acc[1]/word_acc[0]))\n",
    "print(\"rare words:\", rare_word_acc[0], rare_word_acc[1], \"%.2f\" %(100*rare_word_acc[1]/rare_word_acc[0]))\n",
    "\n",
    "for t, v in pos_acc.items():\n",
    "    num, num_correct = v[0], v[1]\n",
    "    print(t, num, num_correct, \"%.2f\" %(100*num_correct/num))\n",
    "            \n",
    "print(\"Done\")"
   ]
  },
  {
   "cell_type": "code",
   "execution_count": 5,
   "id": "5d754fbe",
   "metadata": {},
   "outputs": [
    {
     "data": {
      "text/plain": [
       "[2, 0]"
      ]
     },
     "execution_count": 5,
     "metadata": {},
     "output_type": "execute_result"
    }
   ],
   "source": [
    "a = [0, 0]\n",
    "a[0] += 2\n",
    "a\n"
   ]
  },
  {
   "cell_type": "code",
   "execution_count": null,
   "id": "31d6c882",
   "metadata": {},
   "outputs": [],
   "source": []
  }
 ],
 "metadata": {
  "kernelspec": {
   "display_name": "Python 3",
   "language": "python",
   "name": "python3"
  },
  "language_info": {
   "codemirror_mode": {
    "name": "ipython",
    "version": 3
   },
   "file_extension": ".py",
   "mimetype": "text/x-python",
   "name": "python",
   "nbconvert_exporter": "python",
   "pygments_lexer": "ipython3",
   "version": "3.8.8"
  }
 },
 "nbformat": 4,
 "nbformat_minor": 5
}
