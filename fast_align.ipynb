{
 "cells": [
  {
   "cell_type": "code",
   "execution_count": null,
   "id": "56538a0f",
   "metadata": {},
   "outputs": [],
   "source": [
    "# 准备 fast align 输入语料\n",
    "import sys\n",
    "\n",
    "dir = \"/Users/lisan/spec/spec.fast_align.input\"\n",
    "\n",
    "ofile = open(dir + \"spec.fast_align.input\", \"w\")\n",
    "\n",
    "ja_file = dir + \"train.tok.clean.ja\"\n",
    "cn_file = dir + \"train.tok.clean.cn\"\n",
    "ja_lines = [line.strip() for line in open(ja_file).readlines()]\n",
    "cn_lines = [line.strip() for line in open(cn_file).readlines()]\n",
    "for (j,c) in zip(ja_lines, cn_lines):\n",
    "    ofile.write(j + \"|||\" + c + \"\\n\")\n",
    "    \n",
    "ja_file = dir + \"test.tok.ja\"\n",
    "cn_file = dir + \"test.tok.cn\"\n",
    "ja_lines = [line.strip() for line in open(ja_file).readlines()]\n",
    "cn_lines = [line.strip() for line in open(cn_file).readlines()]\n",
    "for (j,c) in zip(ja_lines, cn_lines):\n",
    "    ofile.write(j + \"|||\" + c + \"\\n\")\n",
    "    \n",
    "print(\"Done!\")\n"
   ]
  },
  {
   "cell_type": "code",
   "execution_count": null,
   "id": "f3235283",
   "metadata": {},
   "outputs": [],
   "source": [
    "\n",
    "# 运行 fast align\n",
    "\n",
    "./fast_align -i spec.fast_align.input -d -o -v > forward.align\n",
    "./fast_align -i spec.fast_align.input -d -o -v -r > reverse.align\n",
    "./atools -i forward.align -j reverse.align -c grow-diag-final-and > bidrction.align\n"
   ]
  },
  {
   "cell_type": "code",
   "execution_count": 4,
   "id": "52a2cef9",
   "metadata": {},
   "outputs": [
    {
     "ename": "FileNotFoundError",
     "evalue": "[Errno 2] No such file or directory: '/Users/lisan/spec/spec.fast_align.inputspec.fast_align.input'",
     "output_type": "error",
     "traceback": [
      "\u001b[0;31m---------------------------------------------------------------------------\u001b[0m",
      "\u001b[0;31mFileNotFoundError\u001b[0m                         Traceback (most recent call last)",
      "\u001b[0;32m<ipython-input-4-5daddb27b160>\u001b[0m in \u001b[0;36m<module>\u001b[0;34m\u001b[0m\n\u001b[1;32m      5\u001b[0m \u001b[0mdir\u001b[0m \u001b[0;34m=\u001b[0m \u001b[0;34m\"/Users/lisan/spec/spec.fast_align.input\"\u001b[0m\u001b[0;34m\u001b[0m\u001b[0;34m\u001b[0m\u001b[0m\n\u001b[1;32m      6\u001b[0m \u001b[0;34m\u001b[0m\u001b[0m\n\u001b[0;32m----> 7\u001b[0;31m \u001b[0mcorpus\u001b[0m \u001b[0;34m=\u001b[0m \u001b[0mopen\u001b[0m\u001b[0;34m(\u001b[0m\u001b[0mdir\u001b[0m \u001b[0;34m+\u001b[0m \u001b[0;34m\"spec.fast_align.input\"\u001b[0m\u001b[0;34m)\u001b[0m\u001b[0;34m\u001b[0m\u001b[0;34m\u001b[0m\u001b[0m\n\u001b[0m\u001b[1;32m      8\u001b[0m \u001b[0malign\u001b[0m \u001b[0;34m=\u001b[0m \u001b[0mopen\u001b[0m\u001b[0;34m(\u001b[0m\u001b[0mdir\u001b[0m \u001b[0;34m+\u001b[0m \u001b[0;34m\"bidirection.align\"\u001b[0m\u001b[0;34m)\u001b[0m\u001b[0;34m\u001b[0m\u001b[0;34m\u001b[0m\u001b[0m\n\u001b[1;32m      9\u001b[0m \u001b[0;34m\u001b[0m\u001b[0m\n",
      "\u001b[0;31mFileNotFoundError\u001b[0m: [Errno 2] No such file or directory: '/Users/lisan/spec/spec.fast_align.inputspec.fast_align.input'"
     ]
    }
   ],
   "source": [
    "# fast align 输出转化成 soft alignment 的 attention 格式\n",
    "\n",
    "import sys\n",
    "\n",
    "dir = \"/Users/lisan/spec/spec.fast_align.input\"\n",
    "\n",
    "corpus = open(dir + \"spec.fast_align.input\").readlines()\n",
    "align = open(dir + \"bidirection.align\").readlines()\n",
    "\n",
    "ofile = open(dir + \"soft_alignment.input\", \"w\")\n",
    "\n",
    "ja_lines = [line.strip().split(\"|||\")[0] for line in corpus]\n",
    "cn_lines = [line.strip().split(\"|||\")[1] for line in corpus]\n",
    "align_lines = [line.strip() for line in align]\n",
    "for (ja,cn,a) in zip(ja_lines, cn_lines, align_lines): \n",
    "    J = len(cn.strip().split(\" \"))\n",
    "    I = len(ja.strip().split(\" \")) \n",
    "    ofile.write(\"0 ||| %s ||| 0 ||| %s ||| %s %s\\n\" % (ja,cn, str(I), str(J)))\n",
    "    \n",
    "    ss = a.split(\" \")\n",
    "    attn = {}\n",
    "    for s in ss:\n",
    "        i, _, j = s.rpartition(\"-\")\n",
    "        i, j = int(i), int(j)\n",
    "        if j not in attn.keys():\n",
    "            attn[j] = [i]\n",
    "        else:\n",
    "            attn[j].append(i)\n",
    "    \n",
    "    \n",
    "    for j in range(J):\n",
    "        scores = [0.0] * I\n",
    "        \n",
    "        ii = attn.get(j, [])\n",
    "        score = 0.0\n",
    "        if len(ii) > 0:\n",
    "            score = 1.0 / len(ii)\n",
    "            \n",
    "        ii = set(ii)    \n",
    "        for i in range(I):\n",
    "            if i in ii:\n",
    "                scores[i] = score\n",
    "        scores = [str(x) for x in scores]\n",
    "        ofile.write(\" \".join(scores) + \"\\n\")\n",
    "    ofile.write(\"\\n\")\n",
    "    \n"
   ]
  },
  {
   "cell_type": "code",
   "execution_count": null,
   "id": "ed5ad5a1",
   "metadata": {},
   "outputs": [],
   "source": []
  }
 ],
 "metadata": {
  "kernelspec": {
   "display_name": "Python 3",
   "language": "python",
   "name": "python3"
  },
  "language_info": {
   "codemirror_mode": {
    "name": "ipython",
    "version": 3
   },
   "file_extension": ".py",
   "mimetype": "text/x-python",
   "name": "python",
   "nbconvert_exporter": "python",
   "pygments_lexer": "ipython3",
   "version": "3.8.8"
  }
 },
 "nbformat": 4,
 "nbformat_minor": 5
}
