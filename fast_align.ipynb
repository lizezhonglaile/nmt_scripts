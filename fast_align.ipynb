{
 "cells": [
  {
   "cell_type": "code",
   "execution_count": null,
   "id": "92fcae70",
   "metadata": {},
   "outputs": [],
   "source": [
    "# 准备 fast align 输入语料\n",
    "import sys\n",
    "\n",
    "dir = \"/Users/lisan/spec/spec.fast_align.input\"\n",
    "\n",
    "ofile = open(dir + \"spec.fast_align.input\", \"w\")\n",
    "\n",
    "ja_file = dir + \"train.tok.clean.ja\"\n",
    "cn_file = dir + \"train.tok.clean.cn\"\n",
    "ja_lines = [line.strip() for line in open(ja_file).readlines()]\n",
    "cn_lines = [line.strip() for line in open(cn_file).readlines()]\n",
    "for (j,c) in zip(ja_lines, cn_lines):\n",
    "    ofile.write(j + \"|||\" + c + \"\\n\")\n",
    "    \n",
    "ja_file = dir + \"test.tok.ja\"\n",
    "cn_file = dir + \"test.tok.cn\"\n",
    "ja_lines = [line.strip() for line in open(ja_file).readlines()]\n",
    "cn_lines = [line.strip() for line in open(cn_file).readlines()]\n",
    "for (j,c) in zip(ja_lines, cn_lines):\n",
    "    ofile.write(j + \"|||\" + c + \"\\n\")\n",
    "    \n",
    "print(\"Done!\")\n"
   ]
  },
  {
   "cell_type": "code",
   "execution_count": null,
   "id": "07b48c37",
   "metadata": {},
   "outputs": [],
   "source": [
    "\n",
    "# 运行 fast align\n",
    "\n",
    "./fast_align -i spec.fast_align.input -d -o -v > forward.align\n",
    "./fast_align -i spec.fast_align.input -d -o -v -r > reverse.align\n",
    "./atools -i forward.align -j reverse.align -c grow-diag-final-and > bidrction.align\n"
   ]
  },
  {
   "cell_type": "code",
   "execution_count": null,
   "id": "78074247",
   "metadata": {},
   "outputs": [],
   "source": []
  }
 ],
 "metadata": {
  "kernelspec": {
   "display_name": "Python 3",
   "language": "python",
   "name": "python3"
  },
  "language_info": {
   "codemirror_mode": {
    "name": "ipython",
    "version": 3
   },
   "file_extension": ".py",
   "mimetype": "text/x-python",
   "name": "python",
   "nbconvert_exporter": "python",
   "pygments_lexer": "ipython3",
   "version": "3.8.8"
  }
 },
 "nbformat": 4,
 "nbformat_minor": 5
}
